{
 "cells": [
  {
   "cell_type": "code",
   "execution_count": null,
   "metadata": {},
   "outputs": [],
   "source": [
    "from tkinter import *\n",
    "UnaLista = []\n",
    "# definimos objeto ventana dentro de la clase Tk\n",
    "ventana = Tk()\n",
    "ventana.title(\"BOTONES\")\n",
    "ventana.geometry(\"4000x3000\")\n",
    "# definimos objeto etiqueta dentro del objeto ventana\n",
    "etiqueta1 = Label(ventana, text=\"ORDENAMIENTO BURBUJA\", width=20)\n",
    "etiqueta1.place(x=150, y=10)\n",
    "etiqueta2 = Label(ventana, text=\"Pon un número\", width=20)\n",
    "etiqueta2.place(x=0, y=100)\n",
    "\n",
    "# definimos objeto de entrada de texto\n",
    "texto1 = Entry(ventana,width=40)\n",
    "texto1.place(x=150, y=80)\n",
    "# generamos una funcion\n",
    "def clicleado():\n",
    "    respuesta = texto1.get()\n",
    "    UnaLista.append (respuesta)\n",
    "    etiqueta3=Label(ventana,text=UnaLista,width=40)\n",
    "    etiqueta3.place(x=150, y=50)\n",
    "    return (UnaLista)\n",
    "def ordenamientoBurbuja():\n",
    "    for numPasada in range(len(UnaLista)-1,0,-1):\n",
    "        for i in range(numPasada):\n",
    "            if UnaLista[i]>UnaLista[i+1]:\n",
    "                temp = UnaLista[i]\n",
    "                UnaLista[i] = UnaLista[i+1]\n",
    "                UnaLista[i+1] = temp\n",
    "    etiqueta4= Label (ventana, text= UnaLista, width=40)\n",
    "    etiqueta4.place(x=150, y=250)\n",
    "   \n",
    "    \n",
    "# definimos un objeto botón dentro del objeto ventana con varios parámetros\n",
    "boton = Button(ventana, text=\"ACEPTAR\",width=20,bg=\"black\",fg=\"red\",command=clicleado)\n",
    "boton.place(x=150,y=120)\n",
    "boton = Button(ventana, text=\"ORDENAR\",width=20,bg=\"black\",fg=\"red\",command=ordenamientoBurbuja)\n",
    "boton.place(x=150,y=200)\n",
    "\n",
    "\n",
    "\n",
    "ventana.mainloop()"
   ]
  }
 ],
 "metadata": {
  "kernelspec": {
   "display_name": "Python 3",
   "language": "python",
   "name": "python3"
  },
  "language_info": {
   "codemirror_mode": {
    "name": "ipython",
    "version": 3
   },
   "file_extension": ".py",
   "mimetype": "text/x-python",
   "name": "python",
   "nbconvert_exporter": "python",
   "pygments_lexer": "ipython3",
   "version": "3.7.0"
  }
 },
 "nbformat": 4,
 "nbformat_minor": 2
}
