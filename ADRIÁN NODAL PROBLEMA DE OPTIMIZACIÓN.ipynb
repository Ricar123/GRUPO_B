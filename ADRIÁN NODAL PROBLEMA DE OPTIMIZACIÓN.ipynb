{
 "cells": [
  {
   "cell_type": "markdown",
   "metadata": {},
   "source": [
    "# PROBLEMA DE OPTIMIZACIÓN"
   ]
  },
  {
   "cell_type": "markdown",
   "metadata": {},
   "source": [
    "Nombre:Adrián Nodal Sandoya.\n",
    "Curso: 2ºBach. C\n",
    "Asignatura: TIC II"
   ]
  },
  {
   "cell_type": "markdown",
   "metadata": {},
   "source": [
    "1.- Introducción.\n",
    "\n"
   ]
  },
  {
   "cell_type": "markdown",
   "metadata": {},
   "source": [
    "En esta práctica hemos desarrollado los conocimientos adquiridos sobre PYTHON que es un lenguaje de programación interpretado cuya filosofía hace hincapié en una sintaxis que favorezca un código legible. "
   ]
  },
  {
   "cell_type": "markdown",
   "metadata": {},
   "source": [
    "2.- Metas y objetivos.\n"
   ]
  },
  {
   "cell_type": "markdown",
   "metadata": {},
   "source": [
    "Resolución de un ejercico de EVAU de la asignatura de Matemáticas."
   ]
  },
  {
   "cell_type": "markdown",
   "metadata": {},
   "source": [
    "Enunciado del problema."
   ]
  },
  {
   "cell_type": "markdown",
   "metadata": {},
   "source": [
    "Se quiere construir un depósito de chapa abierto superiormente con forma de prisma recto de base cuadrada, de 1000m3 de capacidad, lo más económico posible. Sabiendo que:\n",
    "El coste de la chapa usada para los laterales es de 100 euros el metro cuadrado\n",
    "El coste de la chapa usada para la base es de 200 euros el metro cuadrado\n",
    "¿Qué dimensiones debe tener el depósito? ¿Cuál es el precio de dicho depósito?"
   ]
  },
  {
   "cell_type": "markdown",
   "metadata": {},
   "source": [
    "3.- Resolución del problema"
   ]
  },
  {
   "cell_type": "markdown",
   "metadata": {},
   "source": [
    "La ecuación fx es la ecuación coste deducida de  la ecuación volumen, ya que V=1000m**3 "
   ]
  },
  {
   "cell_type": "markdown",
   "metadata": {},
   "source": [
    "Llamando 'x' al lado de la base e 'y' a la altura, la ecuaciuón del volumen es la siguiente:"
   ]
  },
  {
   "cell_type": "markdown",
   "metadata": {},
   "source": [
    "V(x,y)= x**2 * y=1000  #aquí deducimos la 'y' para reducir la ecuación a una sola variable(x)"
   ]
  },
  {
   "cell_type": "markdown",
   "metadata": {},
   "source": [
    "fy=1000/(x**2)"
   ]
  },
  {
   "cell_type": "markdown",
   "metadata": {},
   "source": [
    "Lamamos fx a la ecuación coste, quedando así una vez que hemos puesto la ecuación con una sola variable:"
   ]
  },
  {
   "cell_type": "markdown",
   "metadata": {},
   "source": [
    "f(x) =((200*x**2) +( 400000/x))"
   ]
  },
  {
   "cell_type": "markdown",
   "metadata": {},
   "source": [
    "Representamos la función coste:"
   ]
  },
  {
   "cell_type": "code",
   "execution_count": 33,
   "metadata": {},
   "outputs": [
    {
     "name": "stderr",
     "output_type": "stream",
     "text": [
      "C:\\Users\\Alumno_14\\Desktop\\WPy-3701\\python-3.7.0.amd64\\lib\\site-packages\\ipykernel_launcher.py:8: RuntimeWarning: divide by zero encountered in true_divide\n",
      "  \n",
      "C:\\Users\\Alumno_14\\Desktop\\WPy-3701\\python-3.7.0.amd64\\lib\\site-packages\\ipykernel_launcher.py:10: RuntimeWarning: divide by zero encountered in true_divide\n",
      "  # Remove the CWD from sys.path while we load stuff.\n"
     ]
    },
    {
     "data": {
      "image/png": "[encoded data removed]",
      "text/plain": [
       "<Figure size 432x288 with 1 Axes>"
      ]
     },
     "metadata": {},
     "output_type": "display_data"
    }
   ],
   "source": [
    "# REPRESENTAMOS LA FUNCIÓN COSTE (LA \"PLOTEAMOS\")\n",
    "from matplotlib.pyplot import * \n",
    "from numpy import * \n",
    "from pandas import *\n",
    "\n",
    "\n",
    "def f(x):\n",
    "    return ((2*x**2) +( 4000/x))\n",
    "def d(x):\n",
    "    return 4*x - 4000/x**2\n",
    "\n",
    "\n",
    "grid()\n",
    "ylabel('f(x)')\n",
    "xlabel('x')\n",
    "title(\" $f(x)=((200*x**2) +( 400000/x)) y su derivada\")\n",
    "x1= arange(-100, 100, 4)\n",
    "plot(x1, f(x1))\n",
    "plot(x1, d(x1))\n",
    "\n",
    "show()"
   ]
  },
  {
   "cell_type": "code",
   "execution_count": 3,
   "metadata": {},
   "outputs": [
    {
     "data": {
      "text/plain": [
       "400*x - 400000/x**2"
      ]
     },
     "execution_count": 3,
     "metadata": {},
     "output_type": "execute_result"
    }
   ],
   "source": [
    "from sympy import *\n",
    "\n",
    "x = Symbol('x')\n",
    "fx =((200*x**2) +( 400000/x))\n",
    "dx= diff(fx, x) # derivamos la ecuación coste\n",
    "dx   #representamos el valor de dx"
   ]
  },
  {
   "cell_type": "code",
   "execution_count": 4,
   "metadata": {},
   "outputs": [
    {
     "data": {
      "text/plain": [
       "400*x - 400000/x**2"
      ]
     },
     "execution_count": 4,
     "metadata": {},
     "output_type": "execute_result"
    }
   ],
   "source": [
    "simplify(dx)  # simplifica el resultado cuando hay varios bloques de paréntesis"
   ]
  },
  {
   "cell_type": "code",
   "execution_count": 5,
   "metadata": {},
   "outputs": [
    {
     "data": {
      "text/plain": [
       "400 + 800000/x**3"
      ]
     },
     "execution_count": 5,
     "metadata": {},
     "output_type": "execute_result"
    }
   ],
   "source": [
    "simplify(diff(dx,x))  #calculamos la segunda derivada"
   ]
  },
  {
   "cell_type": "code",
   "execution_count": 8,
   "metadata": {},
   "outputs": [
    {
     "data": {
      "text/plain": [
       "[10, -5 - 5*sqrt(3)*I, -5 + 5*sqrt(3)*I]"
      ]
     },
     "execution_count": 8,
     "metadata": {},
     "output_type": "execute_result"
    }
   ],
   "source": [
    "solve(400*x - 400000/x**2)"
   ]
  },
  {
   "cell_type": "markdown",
   "metadata": {},
   "source": [
    "Como x=10, igualamos las segunda derivada con x=10 para comprobar que sea un mínimo."
   ]
  },
  {
   "cell_type": "code",
   "execution_count": 11,
   "metadata": {},
   "outputs": [
    {
     "data": {
      "text/plain": [
       "1200"
      ]
     },
     "execution_count": 11,
     "metadata": {},
     "output_type": "execute_result"
    }
   ],
   "source": [
    "(diff(dx,x)).subs(x, 10)  # valor numérico de una derivada con x=10"
   ]
  },
  {
   "cell_type": "markdown",
   "metadata": {},
   "source": [
    "Como la derivada segunda es mayor a 0, decimos que hay un mínimo cuando x=10"
   ]
  },
  {
   "cell_type": "code",
   "execution_count": 15,
   "metadata": {},
   "outputs": [],
   "source": [
    "from sympy import *\n",
    "\n",
    "x = Symbol('x')\n",
    "fy =1000/(x**2)"
   ]
  },
  {
   "cell_type": "code",
   "execution_count": 16,
   "metadata": {},
   "outputs": [
    {
     "data": {
      "text/plain": [
       "10"
      ]
     },
     "execution_count": 16,
     "metadata": {},
     "output_type": "execute_result"
    }
   ],
   "source": [
    "(fy).subs(x, 10)"
   ]
  },
  {
   "cell_type": "code",
   "execution_count": null,
   "metadata": {},
   "outputs": [],
   "source": [
    "Por lo tanto, el lado es 10m y la altura es 10m, para que tenga el cost6e mínimo"
   ]
  },
  {
   "cell_type": "code",
   "execution_count": 12,
   "metadata": {},
   "outputs": [
    {
     "data": {
      "text/plain": [
       "60000"
      ]
     },
     "execution_count": 12,
     "metadata": {},
     "output_type": "execute_result"
    }
   ],
   "source": [
    "(fx).subs(x, 10) "
   ]
  },
  {
   "cell_type": "markdown",
   "metadata": {},
   "source": [
    "Por tanto el coste mínimo para que tenga 1000m**3 es de 60000 euros"
   ]
  },
  {
   "cell_type": "markdown",
   "metadata": {},
   "source": [
    "4.-Concusión."
   ]
  },
  {
   "cell_type": "markdown",
   "metadata": {},
   "source": [
    "Me ha resultado muy interesante poder resolver ejercicios de matemáticas con python."
   ]
  }
 ],
 "metadata": {
  "kernelspec": {
   "display_name": "Python 3",
   "language": "python",
   "name": "python3"
  },
  "language_info": {
   "codemirror_mode": {
    "name": "ipython",
    "version": 3
   },
   "file_extension": ".py",
   "mimetype": "text/x-python",
   "name": "python",
   "nbconvert_exporter": "python",
   "pygments_lexer": "ipython3",
   "version": "3.7.0"
  }
 },
 "nbformat": 4,
 "nbformat_minor": 2
}
